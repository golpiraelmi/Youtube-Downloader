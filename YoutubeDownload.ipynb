{
 "cells": [
  {
   "cell_type": "code",
   "execution_count": 116,
   "metadata": {},
   "outputs": [],
   "source": [
    "from moviepy.editor import *\n",
    "import os"
   ]
  },
  {
   "cell_type": "code",
   "execution_count": 120,
   "metadata": {},
   "outputs": [],
   "source": [
    "# Download from YouTube and save it into mp4 folder\n",
    "from pytube import YouTube\n",
    "video = YouTube('https://www.youtube.com/watch?v=aS1no1myeTM')\n",
    "video.streams.filter(file_extension = \"mp4\")\n",
    "mp4_file = video.streams.get_by_itag(18).download('mp4')"
   ]
  },
  {
   "cell_type": "code",
   "execution_count": 118,
   "metadata": {},
   "outputs": [],
   "source": [
    "# Get the file name out of file path and remove the .mp4 extension\n",
    "filename = os.path.split(mp4_file)[1].split('.')[0]\n",
    "\n",
    "# Adding .mp3 extension for mp3 file name\n",
    "mp3_file = filename + '.mp3'"
   ]
  },
  {
   "cell_type": "code",
   "execution_count": 119,
   "metadata": {},
   "outputs": [
    {
     "name": "stderr",
     "output_type": "stream",
     "text": [
      "chunk:   3%|▎         | 130/4915 [00:00<00:03, 1274.07it/s, now=None]"
     ]
    },
    {
     "name": "stdout",
     "output_type": "stream",
     "text": [
      "MoviePy - Writing audio in Miley Cyrus - Midnight Sky (Official Video).mp3\n"
     ]
    },
    {
     "name": "stderr",
     "output_type": "stream",
     "text": [
      "                                                                      "
     ]
    },
    {
     "name": "stdout",
     "output_type": "stream",
     "text": [
      "MoviePy - Done.\n"
     ]
    },
    {
     "name": "stderr",
     "output_type": "stream",
     "text": [
      "\r"
     ]
    }
   ],
   "source": [
    "# Convert to mp3\n",
    "videoclip = VideoFileClip(mp4_file)\n",
    "audioclip = videoclip.audio\n",
    "audioclip.write_audiofile(mp3_file)\n",
    "audioclip.close()\n",
    "videoclip.close()"
   ]
  },
  {
   "cell_type": "code",
   "execution_count": null,
   "metadata": {},
   "outputs": [],
   "source": []
  }
 ],
 "metadata": {
  "kernelspec": {
   "display_name": "Python 3",
   "language": "python",
   "name": "python3"
  },
  "language_info": {
   "codemirror_mode": {
    "name": "ipython",
    "version": 3
   },
   "file_extension": ".py",
   "mimetype": "text/x-python",
   "name": "python",
   "nbconvert_exporter": "python",
   "pygments_lexer": "ipython3",
   "version": "3.7.4"
  }
 },
 "nbformat": 4,
 "nbformat_minor": 2
}
