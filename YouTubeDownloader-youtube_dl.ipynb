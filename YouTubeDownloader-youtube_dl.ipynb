{
 "cells": [
  {
   "cell_type": "code",
   "execution_count": 1,
   "metadata": {},
   "outputs": [],
   "source": [
    "from __future__ import unicode_literals\n",
    "import os\n",
    "import youtube_dl"
   ]
  },
  {
   "cell_type": "code",
   "execution_count": 2,
   "metadata": {},
   "outputs": [],
   "source": [
    "# If mp3 folder exists, ignore, if it doesn't exist then make it\n",
    "if os.path.exists('mp3'):\n",
    "    pass\n",
    "else:\n",
    "    os.mkdir('mp3')\n",
    "    \n",
    "    \n",
    "# If mp4 folder exists, ignore, if it doesn't exist then make it\n",
    "if os.path.exists('mp4'):\n",
    "    pass\n",
    "else:\n",
    "    os.mkdir('mp4')"
   ]
  },
  {
   "cell_type": "markdown",
   "metadata": {},
   "source": [
    "# Enter your YouTube URL here"
   ]
  },
  {
   "cell_type": "code",
   "execution_count": 3,
   "metadata": {},
   "outputs": [],
   "source": [
    "url='https://www.youtube.com/watch?v=31crA53Dgu0'"
   ]
  },
  {
   "cell_type": "markdown",
   "metadata": {},
   "source": [
    "# Downloading mp3\n",
    "This will download an audio file if supported. If the file is not mp3 already, the downloaded file be converted to mp3 using ffmpeg or avconv. "
   ]
  },
  {
   "cell_type": "code",
   "execution_count": 4,
   "metadata": {},
   "outputs": [
    {
     "name": "stdout",
     "output_type": "stream",
     "text": [
      "[youtube] 31crA53Dgu0: Downloading webpage\n",
      "[download] Destination: /Users/golpira/Python/Projects/YoutubeDownloader/mp3/Sia - Cheap Thrills (Performance Edit).webm\n",
      "[download] 100% of 3.47MiB in 00:0152MiB/s ETA 00:004\n",
      "[ffmpeg] Destination: /Users/golpira/Python/Projects/YoutubeDownloader/mp3/Sia - Cheap Thrills (Performance Edit).mp3\n",
      "Deleting original file /Users/golpira/Python/Projects/YoutubeDownloader/mp3/Sia - Cheap Thrills (Performance Edit).webm (pass -k to keep)\n"
     ]
    }
   ],
   "source": [
    "# DOWNLOAD MP3\n",
    "ydl_opts = {\n",
    "    'format': 'bestaudio/best',\n",
    "    'outtmpl': '/Users/golpira/Python/Projects/YoutubeDownloader/mp3/%(title)s.%(ext)s',\n",
    "    'postprocessors': [{\n",
    "        'key': 'FFmpegExtractAudio',\n",
    "        'preferredcodec': 'mp3',\n",
    "        'preferredquality': '192',\n",
    "    }],\n",
    "}\n",
    "with youtube_dl.YoutubeDL(ydl_opts) as ydl:\n",
    "    ydl.download([url])"
   ]
  },
  {
   "cell_type": "markdown",
   "metadata": {},
   "source": [
    "# Downloading mp4"
   ]
  },
  {
   "cell_type": "code",
   "execution_count": 5,
   "metadata": {},
   "outputs": [
    {
     "name": "stdout",
     "output_type": "stream",
     "text": [
      "[youtube] 31crA53Dgu0: Downloading webpage\n",
      "[download] Destination: /Users/golpira/Python/Projects/YoutubeDownloader/mp4/Sia - Cheap Thrills (Performance Edit).mp4\n",
      "[download] 100% of 10.76MiB in 00:0159MiB/s ETA 00:00known ETA\n",
      "[youtube] 31crA53Dgu0: Downloading webpage\n",
      "[download] /Users/golpira/Python/Projects/YoutubeDownloader/mp4/Sia - Cheap Thrills (Performance Edit).mp4 has already been downloaded\n",
      "[download] 100% of 10.76MiB\n"
     ]
    }
   ],
   "source": [
    "#Download youtube mp4 file to mp4 folder\n",
    "ydl_opts = {'format': 'mp4',\n",
    "           'outtmpl': '/Users/golpira/Python/Projects/YoutubeDownloader/mp4/%(title)s.%(ext)s'}\n",
    "with youtube_dl.YoutubeDL(ydl_opts) as ydl:\n",
    "    ydl.download([url])\n",
    "    video = ydl.extract_info(\"{}\".format(url))"
   ]
  },
  {
   "cell_type": "markdown",
   "metadata": {},
   "source": [
    "## Reference\n",
    "https://www.bogotobogo.com/VideoStreaming/YouTube/youtube-dl-embedding.php"
   ]
  }
 ],
 "metadata": {
  "kernelspec": {
   "display_name": "Python 3",
   "language": "python",
   "name": "python3"
  },
  "language_info": {
   "codemirror_mode": {
    "name": "ipython",
    "version": 3
   },
   "file_extension": ".py",
   "mimetype": "text/x-python",
   "name": "python",
   "nbconvert_exporter": "python",
   "pygments_lexer": "ipython3",
   "version": "3.7.4"
  }
 },
 "nbformat": 4,
 "nbformat_minor": 2
}
