{
 "cells": [
  {
   "cell_type": "code",
   "execution_count": 103,
   "metadata": {},
   "outputs": [],
   "source": [
    "from __future__ import unicode_literals\n",
    "import moviepy.editor as mp\n",
    "import os\n",
    "import youtube_dl"
   ]
  },
  {
   "cell_type": "code",
   "execution_count": 104,
   "metadata": {},
   "outputs": [],
   "source": [
    "# If mp3 folder exists, ignore, if it doesn't exist then make it\n",
    "if os.path.exists('mp3'):\n",
    "    pass\n",
    "else:\n",
    "    os.mkdir('mp3')\n",
    "    \n",
    "    \n",
    "# If mp4 folder exists, ignore, if it doesn't exist then make it\n",
    "if os.path.exists('mp4'):\n",
    "    pass\n",
    "else:\n",
    "    os.mkdir('mp4')"
   ]
  },
  {
   "cell_type": "markdown",
   "metadata": {},
   "source": [
    "# Enter your YouTube URL here"
   ]
  },
  {
   "cell_type": "code",
   "execution_count": 105,
   "metadata": {},
   "outputs": [],
   "source": [
    "url='https://www.youtube.com/watch?v=_Z-31N20IYQ'"
   ]
  },
  {
   "cell_type": "markdown",
   "metadata": {},
   "source": [
    "# Downloading mp3\n",
    "This will download an audio file if supported. If the file is not mp3 already, the downloaded file be converted to mp3 using ffmpeg or avconv. "
   ]
  },
  {
   "cell_type": "code",
   "execution_count": 107,
   "metadata": {},
   "outputs": [
    {
     "name": "stdout",
     "output_type": "stream",
     "text": [
      "[youtube] _Z-31N20IYQ: Downloading webpage\n",
      "[youtube] _Z-31N20IYQ: Downloading MPD manifest\n",
      "[dashsegments] Total fragments: 18\n",
      "[download] Destination: /Users/golpira/Python/Projects/YoutubeDownloader/mp3/Ava Max - Kings & Queens (Legendado PT-BR).webm\n",
      "[download] 100% of 2.57MiB in 00:025.48KiB/s ETA 00:0049\n",
      "[ffmpeg] Destination: /Users/golpira/Python/Projects/YoutubeDownloader/mp3/Ava Max - Kings & Queens (Legendado PT-BR).mp3\n",
      "Deleting original file /Users/golpira/Python/Projects/YoutubeDownloader/mp3/Ava Max - Kings & Queens (Legendado PT-BR).webm (pass -k to keep)\n"
     ]
    }
   ],
   "source": [
    "# DOWNLOAD MP3\n",
    "ydl_opts = {\n",
    "    'format': 'bestaudio/best',\n",
    "    'outtmpl': '/Users/golpira/Python/Projects/YoutubeDownloader/mp3/%(title)s.%(ext)s',\n",
    "    'postprocessors': [{\n",
    "        'key': 'FFmpegExtractAudio',\n",
    "        'preferredcodec': 'mp3',\n",
    "        'preferredquality': '192',\n",
    "    }],\n",
    "}\n",
    "with youtube_dl.YoutubeDL(ydl_opts) as ydl:\n",
    "    ydl.download([url])"
   ]
  },
  {
   "cell_type": "markdown",
   "metadata": {},
   "source": [
    "# Downloading mp4"
   ]
  },
  {
   "cell_type": "code",
   "execution_count": 106,
   "metadata": {},
   "outputs": [
    {
     "name": "stdout",
     "output_type": "stream",
     "text": [
      "[youtube] _Z-31N20IYQ: Downloading webpage\n",
      "[youtube] _Z-31N20IYQ: Downloading js player 5dd3f3b2\n",
      "[youtube] _Z-31N20IYQ: Downloading js player 5dd3f3b2\n",
      "[youtube] _Z-31N20IYQ: Downloading MPD manifest\n",
      "[download] /Users/golpira/Python/Projects/YoutubeDownloader/mp4/Ava Max - Kings & Queens (Legendado PT-BR).mp4 has already been downloaded\n",
      "[download] 100% of 13.14MiB\n",
      "[youtube] _Z-31N20IYQ: Downloading webpage\n",
      "[youtube] _Z-31N20IYQ: Downloading MPD manifest\n",
      "[download] /Users/golpira/Python/Projects/YoutubeDownloader/mp4/Ava Max - Kings & Queens (Legendado PT-BR).mp4 has already been downloaded\n",
      "[download] 100% of 13.14MiB\n"
     ]
    }
   ],
   "source": [
    "#Download youtube mp4 file to mp4 folder\n",
    "ydl_opts = {'format': 'mp4',\n",
    "           'outtmpl': '/Users/golpira/Python/Projects/YoutubeDownloader/mp4/%(title)s.%(ext)s'}\n",
    "with youtube_dl.YoutubeDL(ydl_opts) as ydl:\n",
    "    ydl.download([url])\n",
    "    video = ydl.extract_info(\"{}\".format(url))"
   ]
  },
  {
   "cell_type": "markdown",
   "metadata": {},
   "source": [
    "## Reference\n",
    "https://www.bogotobogo.com/VideoStreaming/YouTube/youtube-dl-embedding.php"
   ]
  }
 ],
 "metadata": {
  "kernelspec": {
   "display_name": "Python 3",
   "language": "python",
   "name": "python3"
  },
  "language_info": {
   "codemirror_mode": {
    "name": "ipython",
    "version": 3
   },
   "file_extension": ".py",
   "mimetype": "text/x-python",
   "name": "python",
   "nbconvert_exporter": "python",
   "pygments_lexer": "ipython3",
   "version": "3.7.4"
  }
 },
 "nbformat": 4,
 "nbformat_minor": 2
}
