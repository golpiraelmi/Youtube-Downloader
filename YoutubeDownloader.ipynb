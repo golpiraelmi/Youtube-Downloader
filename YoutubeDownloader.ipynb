{
 "cells": [
  {
   "cell_type": "code",
   "execution_count": null,
   "metadata": {},
   "outputs": [],
   "source": [
    "from moviepy.editor import *\n",
    "from pytube import YouTube\n",
    "import os\n",
    "import shutil"
   ]
  },
  {
   "cell_type": "code",
   "execution_count": null,
   "metadata": {},
   "outputs": [],
   "source": [
    "# If mp3 folder exists, ignore, if it doesn't exist then make it\n",
    "if os.path.exists('mp3'):\n",
    "    pass\n",
    "else:\n",
    "    os.mkdir('mp3')"
   ]
  },
  {
   "cell_type": "code",
   "execution_count": null,
   "metadata": {},
   "outputs": [],
   "source": [
    "# Download from YouTube and save it into mp4 folder\n",
    "video = YouTube('https://www.youtube.com/watch?v=x_HmFU6aUVI')\n",
    "video.streams.filter(file_extension = \"mp4\")\n",
    "mp4_file = video.streams.get_by_itag(18).download('mp4')"
   ]
  },
  {
   "cell_type": "code",
   "execution_count": null,
   "metadata": {},
   "outputs": [],
   "source": [
    "# Get the file name out of file path and remove the .mp4 extension\n",
    "filename = os.path.split(mp4_file)[1].split('.')[0]\n",
    "\n",
    "# Adding .mp3 extension for mp3 file name\n",
    "mp3_file = filename + '.mp3'"
   ]
  },
  {
   "cell_type": "code",
   "execution_count": null,
   "metadata": {},
   "outputs": [],
   "source": [
    "# Convert to mp3\n",
    "videoclip = VideoFileClip(mp4_file)\n",
    "audioclip = videoclip.audio\n",
    "audioclip.write_audiofile(mp3_file)\n",
    "audioclip.close()\n",
    "videoclip.close()"
   ]
  },
  {
   "cell_type": "code",
   "execution_count": null,
   "metadata": {},
   "outputs": [],
   "source": [
    "# Moving the mp3 file created to a folder called 'mp3'\n",
    "destination = 'mp3'\n",
    "shutil.move(mp3_file, 'mp3')"
   ]
  },
  {
   "cell_type": "markdown",
   "metadata": {},
   "source": [
    "## References:\n",
    "    https://towardsdatascience.com/the-easiest-way-to-download-youtube-videos-using-python-2640958318ab\n",
    "    https://www.tutorialexample.com/a-complete-guide-to-python-convert-mp4-to-mp3-with-moviepy-python-tutorial/\n",
    "    "
   ]
  }
 ],
 "metadata": {
  "kernelspec": {
   "display_name": "Python 3",
   "language": "python",
   "name": "python3"
  },
  "language_info": {
   "codemirror_mode": {
    "name": "ipython",
    "version": 3
   },
   "file_extension": ".py",
   "mimetype": "text/x-python",
   "name": "python",
   "nbconvert_exporter": "python",
   "pygments_lexer": "ipython3",
   "version": "3.7.4"
  }
 },
 "nbformat": 4,
 "nbformat_minor": 2
}
